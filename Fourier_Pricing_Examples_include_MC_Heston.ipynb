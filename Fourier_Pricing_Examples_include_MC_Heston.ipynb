{
 "cells": [
  {
   "cell_type": "code",
   "execution_count": 1,
   "metadata": {},
   "outputs": [
    {
     "name": "stdout",
     "output_type": "stream",
     "text": [
      "Requirement already satisfied: ipynb in /Users/abc/opt/anaconda3/lib/python3.7/site-packages (0.5.1)\r\n"
     ]
    }
   ],
   "source": [
    "#Import necessary packages\n",
    "import numpy as np\n",
    "from scipy.integrate import quad\n",
    "from scipy import stats\n",
    "import warnings\n",
    "import time\n",
    "warnings.simplefilter('ignore')\n",
    "\n",
    "#Install import_ipynb so we can read dependenies as jupyter notebooks\n",
    "!pip install ipynb\n",
    "\n",
    "#Import jupyer notebook depdendencies \n",
    "from ipynb.fs.full.FFT_option_valuation_LEWIS import BSM_call_value_FFT, H93_call_value_FFT\n",
    "from ipynb.fs.full.Lewis_Integration_option_valuation import BSM_call_value, H93_call_value\n"
   ]
  },
  {
   "cell_type": "code",
   "execution_count": 2,
   "metadata": {},
   "outputs": [],
   "source": [
    "#BSM analytical formula\n",
    "\n",
    "def BSM_call_valueAnalytical(S0, K, T, r, d, sigma):\n",
    "    ''' Valuation of European call option in BSM Model.\n",
    "    Analytical Formula.\n",
    "    Parameters\n",
    "    ==========\n",
    "    S0: float\n",
    "    initial stock/index level\n",
    "    K: float\n",
    "    strike price\n",
    "    T: float\n",
    "    time-to-maturity (for t=0)\n",
    "    r: float\n",
    "    constant risk-free short rate\n",
    "    d: float\n",
    "    dividend yield\n",
    "    sigma: float\n",
    "    volatility factor in diffusion term\n",
    "    Returns\n",
    "    =======\n",
    "    call_value: float\n",
    "    European call option present value\n",
    "    '''\n",
    "    d1 = (np.log(S0 / K) + (r-d + 0.5 * sigma ** 2) * T) / (sigma * np.sqrt(T))\n",
    "    d2 = (np.log(S0 / K) + (r-d - 0.5 * sigma ** 2) * T) / (sigma * np.sqrt(T))\n",
    "    BS_C = (S0*np.exp(-d*T)* stats.norm.cdf(d1, 0.0, 1.0) - K * np.exp(-r * T) * stats.norm.cdf(d2, 0.0, 1.0))\n",
    "    return BS_C\n"
   ]
  },
  {
   "cell_type": "code",
   "execution_count": 3,
   "metadata": {},
   "outputs": [],
   "source": [
    "# BSM Parameters\n",
    "S0 = 100.0\n",
    "K = 100.0\n",
    "T = 1.\n",
    "r = 0.05\n",
    "sigma = 0.2\n",
    "d = 0"
   ]
  },
  {
   "cell_type": "code",
   "execution_count": 4,
   "metadata": {},
   "outputs": [
    {
     "data": {
      "text/plain": [
       "10.450583572184826"
      ]
     },
     "execution_count": 4,
     "metadata": {},
     "output_type": "execute_result"
    }
   ],
   "source": [
    "\n",
    "BSM_call_value(S0, K, T, r, d, sigma)"
   ]
  },
  {
   "cell_type": "code",
   "execution_count": 5,
   "metadata": {},
   "outputs": [
    {
     "data": {
      "text/plain": [
       "10.450813049892247"
      ]
     },
     "execution_count": 5,
     "metadata": {},
     "output_type": "execute_result"
    }
   ],
   "source": [
    "BSM_call_value_FFT(S0, K, T, r, d, sigma)"
   ]
  },
  {
   "cell_type": "code",
   "execution_count": 6,
   "metadata": {},
   "outputs": [
    {
     "data": {
      "text/plain": [
       "10.450583572185565"
      ]
     },
     "execution_count": 6,
     "metadata": {},
     "output_type": "execute_result"
    }
   ],
   "source": [
    "BSM_call_valueAnalytical(S0, K, T, r, d, sigma)"
   ]
  },
  {
   "cell_type": "code",
   "execution_count": 7,
   "metadata": {},
   "outputs": [
    {
     "name": "stdout",
     "output_type": "stream",
     "text": [
      "BSM_Analytical method 0.0005278587341308594 seconds\n",
      "BSM_FT method 0.0027511119842529297 seconds\n",
      "BSM_FFT method 0.001993894577026367 seconds\n"
     ]
    }
   ],
   "source": [
    "# Compare running time in one iteration\n",
    "start_time = time.time()\n",
    "BSM_call_valueAnalytical(S0, K, T, r, d, sigma)\n",
    "print(\"BSM_Analytical method\", (time.time() - start_time), \"seconds\")\n",
    "\n",
    "start_time = time.time()\n",
    "BSM_call_value(S0, K, T, r, d, sigma)\n",
    "print(\"BSM_FT method\", (time.time() - start_time), \"seconds\")\n",
    "\n",
    "start_time = time.time()\n",
    "BSM_call_value_FFT(S0, K, T, r, d, sigma)\n",
    "print(\"BSM_FFT method\", (time.time() - start_time), \"seconds\")"
   ]
  },
  {
   "cell_type": "code",
   "execution_count": 8,
   "metadata": {},
   "outputs": [],
   "source": [
    "# Heston Parameters\n",
    "S0 = 100.0\n",
    "K = 100.0\n",
    "T = 1.0\n",
    "r = 0.05\n",
    "kappa_v = 2\n",
    "theta_v = 0.01\n",
    "sigma_v = 0.1\n",
    "rho = -0.5\n",
    "v0 = 0.01\n",
    "d = 0"
   ]
  },
  {
   "cell_type": "code",
   "execution_count": 9,
   "metadata": {},
   "outputs": [
    {
     "data": {
      "text/plain": [
       "6.874940187021409"
      ]
     },
     "execution_count": 9,
     "metadata": {},
     "output_type": "execute_result"
    }
   ],
   "source": [
    "H93_call_value(S0, K, T, r, d, kappa_v, theta_v, sigma_v, rho, v0)"
   ]
  },
  {
   "cell_type": "code",
   "execution_count": 10,
   "metadata": {},
   "outputs": [
    {
     "data": {
      "text/plain": [
       "6.87516966472441"
      ]
     },
     "execution_count": 10,
     "metadata": {},
     "output_type": "execute_result"
    }
   ],
   "source": [
    "H93_call_value_FFT(S0, K, T, r, d, kappa_v, theta_v, sigma_v, rho, v0)"
   ]
  },
  {
   "cell_type": "code",
   "execution_count": 11,
   "metadata": {},
   "outputs": [],
   "source": [
    "import numpy.random as npr\n",
    "np.random.seed(500)\n",
    "def MC_Euler_Scheme_Heston_optionpricing(S0, K, T, r, d,\n",
    "                                         v0, kappa, theta, sigma, rho,\n",
    "                                         M, I, option = 'put', vt_disct = 'full-truncation'):\n",
    "    ''' The Monte-Carlo estimation for a European option using the \n",
    "    standard Euler-Maruyama scheme in Heston Model\n",
    "    Parameters\n",
    "    ==========\n",
    "    S0, K, T, r, d parameters as in typical European option.\n",
    "    v0, kappa, theta, sigma, rho: Heston parameters for the volatility  \n",
    "    M, I : (int) number of time steps and number of MC simulations\n",
    "    option : (string) type of the option to be valued ('call', 'put')\n",
    "    \n",
    "    Returns\n",
    "    =======\n",
    "    C0 : float\n",
    "        estimated present value of European put option'''\n",
    "    \n",
    "    ran_num = npr.standard_normal((2, M + 1, I)) \n",
    "    dt = T / M\n",
    "    corr_mat = np.zeros((2, 2))\n",
    "    corr_mat[0, :] = [1.0, rho]\n",
    "    corr_mat[1, :] = [rho, 1.0]\n",
    "    cho_mat = np.linalg.cholesky(corr_mat)\n",
    "    cho_mat\n",
    "    v = np.zeros_like(ran_num[0])\n",
    "    vh = np.zeros_like(v)\n",
    "    v[0] = v0\n",
    "    vh[0] = v0\n",
    "    S = np.zeros_like(ran_num[0])    \n",
    "    S[0] = S0\n",
    "    for t in range(1, M + 1):\n",
    "    \n",
    "        ran = np.dot(cho_mat, ran_num[:, t, :])\n",
    "        if vt_disct == 'full-truncation':\n",
    "        #this scheme is called full-truncation\n",
    "            vh[t] = (vh[t - 1] + kappa * (theta - np.maximum(vh[t - 1], 0)) * dt\n",
    "                  + sigma * np.sqrt(np.maximum(vh[t - 1], 0)) * np.sqrt(dt) * ran[1])\n",
    "            v[t] = np.maximum(0, vh[t])\n",
    "        \n",
    "        #this scheme is called Reflection\n",
    "        elif vt_disct == 'reflection':\n",
    "            vh[t] = (vh[t - 1] + kappa * (theta - np.abs(vh[t - 1])) * dt\n",
    "                  + sigma * np.sqrt(np.abs(vh[t - 1])) * np.sqrt(dt) * ran[1])\n",
    "            v[t] = np.abs(vh[t])\n",
    "        \n",
    "        S[t] = S[t - 1] * np.exp((r -d - 0.5 * v[t]) * dt + np.sqrt(v[t]) * ran[0] * np.sqrt(dt))\n",
    "    if option == 'call':\n",
    "        hT = np.maximum(S[-1] - K, 0)\n",
    "    elif option == 'put':\n",
    "        hT = np.maximum(K - S[-1], 0)\n",
    "\n",
    "    # calculation of MCS estimator for option price in Heston model\n",
    "    option_price = np.exp(-(r-d) * T) * np.mean(hT)\n",
    "    \n",
    "    return option_price"
   ]
  },
  {
   "cell_type": "code",
   "execution_count": 12,
   "metadata": {},
   "outputs": [
    {
     "data": {
      "text/plain": [
       "5.190245637372806"
      ]
     },
     "execution_count": 12,
     "metadata": {},
     "output_type": "execute_result"
    }
   ],
   "source": [
    "# option parameter: the same as defined above for FT and FFT approach\n",
    "\n",
    "# MC simulation parameters:\n",
    "M = 252\n",
    "I = 500000\n",
    "MC_Euler_Scheme_Heston_optionpricing(S0, K, T, r, d,\n",
    "                                     v0, kappa_v, theta_v, sigma_v, rho, \n",
    "                                     M, I, option = 'call', vt_disct = 'full-truncation')"
   ]
  },
  {
   "cell_type": "code",
   "execution_count": 13,
   "metadata": {},
   "outputs": [
    {
     "data": {
      "text/plain": [
       "16.896684595142407"
      ]
     },
     "execution_count": 13,
     "metadata": {},
     "output_type": "execute_result"
    }
   ],
   "source": [
    "# ITM option\n",
    "S0 = 100.0\n",
    "K = 85.0\n",
    "T = 1.0\n",
    "r = 0.05\n",
    "kappa_v = 2\n",
    "theta_v = 0.01\n",
    "sigma_v = 0.1\n",
    "rho = -0.5\n",
    "v0 = 0.01\n",
    "d = 0\n",
    "MC_Euler_Scheme_Heston_optionpricing(S0, K, T, r, d,\n",
    "                                     v0, kappa_v, theta_v, sigma_v, rho, \n",
    "                                     M, I, option = 'call', vt_disct = 'full-truncation')"
   ]
  },
  {
   "cell_type": "code",
   "execution_count": 14,
   "metadata": {},
   "outputs": [
    {
     "data": {
      "text/plain": [
       "19.27233648924421"
      ]
     },
     "execution_count": 14,
     "metadata": {},
     "output_type": "execute_result"
    }
   ],
   "source": [
    "H93_call_value(S0, K, T, r, d, kappa_v, theta_v, sigma_v, rho, v0)"
   ]
  },
  {
   "cell_type": "code",
   "execution_count": 15,
   "metadata": {},
   "outputs": [
    {
     "data": {
      "text/plain": [
       "19.27254918630409"
      ]
     },
     "execution_count": 15,
     "metadata": {},
     "output_type": "execute_result"
    }
   ],
   "source": [
    "H93_call_value_FFT(S0, K, T, r, d, kappa_v, theta_v, sigma_v, rho, v0)"
   ]
  },
  {
   "cell_type": "code",
   "execution_count": 16,
   "metadata": {},
   "outputs": [
    {
     "data": {
      "text/plain": [
       "0.47512869990502243"
      ]
     },
     "execution_count": 16,
     "metadata": {},
     "output_type": "execute_result"
    }
   ],
   "source": [
    "# OTM option\n",
    "S0 = 100.0\n",
    "K = 115.0\n",
    "T = 1.0\n",
    "r = 0.05\n",
    "kappa_v = 2\n",
    "theta_v = 0.01\n",
    "sigma_v = 0.1\n",
    "rho = -0.5\n",
    "v0 = 0.01\n",
    "d = 0\n",
    "MC_Euler_Scheme_Heston_optionpricing(S0, K, T, r, d,\n",
    "                                     v0, kappa_v, theta_v, sigma_v, rho, \n",
    "                                     M, I, option = 'call', vt_disct = 'full-truncation')"
   ]
  },
  {
   "cell_type": "code",
   "execution_count": 18,
   "metadata": {},
   "outputs": [
    {
     "name": "stdout",
     "output_type": "stream",
     "text": [
      "Heston_MC 15.399959087371826 seconds\n",
      "Heston_Lewis 0.007119655609130859 seconds\n",
      "Heston_FFT 0.0024461746215820312 seconds\n"
     ]
    }
   ],
   "source": [
    "start_time = time.time()\n",
    "MC_Euler_Scheme_Heston_optionpricing(S0, K, T, r, d,\n",
    "                                     v0, kappa_v, theta_v, sigma_v, rho, \n",
    "                                     M, I, option = 'call')\n",
    "print(\"Heston_MC\", (time.time() - start_time), \"seconds\")\n",
    "start_time = time.time()\n",
    "H93_call_value(S0, K, T, r, d, kappa_v, theta_v, sigma_v, rho, v0)\n",
    "print(\"Heston_Lewis\", (time.time() - start_time), \"seconds\")\n",
    "start_time = time.time()\n",
    "H93_call_value_FFT(S0, K, T, r, d, kappa_v, theta_v, sigma_v, rho, v0)\n",
    "print(\"Heston_FFT\", (time.time() - start_time), \"seconds\")"
   ]
  },
  {
   "cell_type": "code",
   "execution_count": 19,
   "metadata": {},
   "outputs": [
    {
     "data": {
      "text/html": [
       "<div>\n",
       "<style scoped>\n",
       "    .dataframe tbody tr th:only-of-type {\n",
       "        vertical-align: middle;\n",
       "    }\n",
       "\n",
       "    .dataframe tbody tr th {\n",
       "        vertical-align: top;\n",
       "    }\n",
       "\n",
       "    .dataframe thead th {\n",
       "        text-align: right;\n",
       "    }\n",
       "</style>\n",
       "<table border=\"1\" class=\"dataframe\">\n",
       "  <thead>\n",
       "    <tr style=\"text-align: right;\">\n",
       "      <th></th>\n",
       "      <th>Maturity</th>\n",
       "      <th>Strike</th>\n",
       "      <th>Call</th>\n",
       "      <th>Date</th>\n",
       "      <th>T</th>\n",
       "      <th>r</th>\n",
       "    </tr>\n",
       "  </thead>\n",
       "  <tbody>\n",
       "    <tr>\n",
       "      <th>0</th>\n",
       "      <td>2021-01-08</td>\n",
       "      <td>85.0</td>\n",
       "      <td>13.500</td>\n",
       "      <td>2020-12-28</td>\n",
       "      <td>0.030137</td>\n",
       "      <td>-0.000491</td>\n",
       "    </tr>\n",
       "    <tr>\n",
       "      <th>1</th>\n",
       "      <td>2021-01-08</td>\n",
       "      <td>87.5</td>\n",
       "      <td>11.000</td>\n",
       "      <td>2020-12-28</td>\n",
       "      <td>0.030137</td>\n",
       "      <td>-0.000491</td>\n",
       "    </tr>\n",
       "    <tr>\n",
       "      <th>2</th>\n",
       "      <td>2021-01-08</td>\n",
       "      <td>90.0</td>\n",
       "      <td>8.500</td>\n",
       "      <td>2020-12-28</td>\n",
       "      <td>0.030137</td>\n",
       "      <td>-0.000491</td>\n",
       "    </tr>\n",
       "    <tr>\n",
       "      <th>3</th>\n",
       "      <td>2021-01-08</td>\n",
       "      <td>92.5</td>\n",
       "      <td>6.000</td>\n",
       "      <td>2020-12-28</td>\n",
       "      <td>0.030137</td>\n",
       "      <td>-0.000491</td>\n",
       "    </tr>\n",
       "    <tr>\n",
       "      <th>4</th>\n",
       "      <td>2021-01-08</td>\n",
       "      <td>95.0</td>\n",
       "      <td>3.900</td>\n",
       "      <td>2020-12-28</td>\n",
       "      <td>0.030137</td>\n",
       "      <td>-0.000491</td>\n",
       "    </tr>\n",
       "    <tr>\n",
       "      <th>...</th>\n",
       "      <td>...</td>\n",
       "      <td>...</td>\n",
       "      <td>...</td>\n",
       "      <td>...</td>\n",
       "      <td>...</td>\n",
       "      <td>...</td>\n",
       "    </tr>\n",
       "    <tr>\n",
       "      <th>125</th>\n",
       "      <td>2021-12-17</td>\n",
       "      <td>120.0</td>\n",
       "      <td>4.125</td>\n",
       "      <td>2020-12-28</td>\n",
       "      <td>0.969863</td>\n",
       "      <td>0.000721</td>\n",
       "    </tr>\n",
       "    <tr>\n",
       "      <th>126</th>\n",
       "      <td>2021-12-17</td>\n",
       "      <td>130.0</td>\n",
       "      <td>2.425</td>\n",
       "      <td>2020-12-28</td>\n",
       "      <td>0.969863</td>\n",
       "      <td>0.000721</td>\n",
       "    </tr>\n",
       "    <tr>\n",
       "      <th>127</th>\n",
       "      <td>2021-12-17</td>\n",
       "      <td>140.0</td>\n",
       "      <td>1.375</td>\n",
       "      <td>2020-12-28</td>\n",
       "      <td>0.969863</td>\n",
       "      <td>0.000721</td>\n",
       "    </tr>\n",
       "    <tr>\n",
       "      <th>128</th>\n",
       "      <td>2021-12-17</td>\n",
       "      <td>150.0</td>\n",
       "      <td>0.825</td>\n",
       "      <td>2020-12-28</td>\n",
       "      <td>0.969863</td>\n",
       "      <td>0.000721</td>\n",
       "    </tr>\n",
       "    <tr>\n",
       "      <th>129</th>\n",
       "      <td>2021-12-17</td>\n",
       "      <td>170.0</td>\n",
       "      <td>0.455</td>\n",
       "      <td>2020-12-28</td>\n",
       "      <td>0.969863</td>\n",
       "      <td>0.000721</td>\n",
       "    </tr>\n",
       "  </tbody>\n",
       "</table>\n",
       "<p>130 rows × 6 columns</p>\n",
       "</div>"
      ],
      "text/plain": [
       "       Maturity  Strike    Call        Date         T         r\n",
       "0    2021-01-08    85.0  13.500  2020-12-28  0.030137 -0.000491\n",
       "1    2021-01-08    87.5  11.000  2020-12-28  0.030137 -0.000491\n",
       "2    2021-01-08    90.0   8.500  2020-12-28  0.030137 -0.000491\n",
       "3    2021-01-08    92.5   6.000  2020-12-28  0.030137 -0.000491\n",
       "4    2021-01-08    95.0   3.900  2020-12-28  0.030137 -0.000491\n",
       "..          ...     ...     ...         ...       ...       ...\n",
       "125  2021-12-17   120.0   4.125  2020-12-28  0.969863  0.000721\n",
       "126  2021-12-17   130.0   2.425  2020-12-28  0.969863  0.000721\n",
       "127  2021-12-17   140.0   1.375  2020-12-28  0.969863  0.000721\n",
       "128  2021-12-17   150.0   0.825  2020-12-28  0.969863  0.000721\n",
       "129  2021-12-17   170.0   0.455  2020-12-28  0.969863  0.000721\n",
       "\n",
       "[130 rows x 6 columns]"
      ]
     },
     "execution_count": 19,
     "metadata": {},
     "output_type": "execute_result"
    }
   ],
   "source": [
    "## Compare running time with 130 options in our benchmark\n",
    "\n",
    "#Import CSV file with option data as a panda dataframe\n",
    "import pandas as pd\n",
    "options = pd.read_csv('option_data.csv')\n",
    "options"
   ]
  },
  {
   "cell_type": "code",
   "execution_count": 20,
   "metadata": {},
   "outputs": [],
   "source": [
    "#Define Stock price (Ericsson B, 28.12.2020)               \n",
    "S0 = 98.36   \n",
    "#Dividend yield\n",
    "d = 0.0086"
   ]
  },
  {
   "cell_type": "code",
   "execution_count": 21,
   "metadata": {},
   "outputs": [
    {
     "name": "stdout",
     "output_type": "stream",
     "text": [
      "1.2030138969421387 seconds\n"
     ]
    }
   ],
   "source": [
    "start_time = time.time()\n",
    "for row, option in options.iterrows():\n",
    "    H93_call_value(S0, option['Strike'], option['T'],\n",
    "                            option['r'], d, kappa_v, theta_v, sigma_v, rho, v0)\n",
    "H93_call_value_time = (time.time() - start_time)\n",
    "print(H93_call_value_time, \"seconds\")    \n",
    "   "
   ]
  },
  {
   "cell_type": "code",
   "execution_count": 22,
   "metadata": {},
   "outputs": [
    {
     "name": "stdout",
     "output_type": "stream",
     "text": [
      "0.25907373428344727 seconds\n"
     ]
    }
   ],
   "source": [
    "start_time = time.time()\n",
    "for row, option in options.iterrows():    \n",
    "    H93_call_value_FFT(S0, option['Strike'], option['T'],\n",
    "                            option['r'], d, kappa_v, theta_v, sigma_v, rho, v0)\n",
    "H93_call_value_FFT_time = (time.time() - start_time)    \n",
    "print(H93_call_value_FFT_time, \"seconds\")    "
   ]
  },
  {
   "cell_type": "code",
   "execution_count": null,
   "metadata": {},
   "outputs": [],
   "source": [
    "start_time = time.time()    \n",
    "for row, option in options.iterrows():    \n",
    "    MC_Euler_Scheme_Heston_optionpricing(S0, option['Strike'], option['T'], option['r'], d,\n",
    "                                     v0, kappa_v, theta_v, sigma_v, rho, \n",
    "                                     M, I, option = 'call', vt_disct = 'full-truncation')\n",
    "MC_Euler_Scheme_Heston_optionpricing_time = (time.time() - start_time)    \n",
    "print(MC_Euler_Scheme_Heston_optionpricing_time, \"seconds\") "
   ]
  },
  {
   "cell_type": "code",
   "execution_count": null,
   "metadata": {},
   "outputs": [],
   "source": []
  }
 ],
 "metadata": {
  "kernelspec": {
   "display_name": "Python 3",
   "language": "python",
   "name": "python3"
  },
  "language_info": {
   "codemirror_mode": {
    "name": "ipython",
    "version": 3
   },
   "file_extension": ".py",
   "mimetype": "text/x-python",
   "name": "python",
   "nbconvert_exporter": "python",
   "pygments_lexer": "ipython3",
   "version": "3.7.6"
  }
 },
 "nbformat": 4,
 "nbformat_minor": 4
}
