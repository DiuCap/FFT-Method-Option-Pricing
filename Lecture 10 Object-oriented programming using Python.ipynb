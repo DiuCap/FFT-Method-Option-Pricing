{
 "cells": [
  {
   "cell_type": "markdown",
   "metadata": {},
   "source": [
    "# Object-oriented programming: basics and examples"
   ]
  },
  {
   "cell_type": "code",
   "execution_count": 1,
   "metadata": {},
   "outputs": [],
   "source": [
    "import matplotlib.pyplot as plt\n",
    "plt.style.use('ggplot') #https://matplotlib.org/gallery/style_sheets/ggplot.html\n",
    "import matplotlib as mpl"
   ]
  },
  {
   "cell_type": "markdown",
   "metadata": {},
   "source": [
    "## 1. Basics in object-oriented programming "
   ]
  },
  {
   "cell_type": "markdown",
   "metadata": {},
   "source": [
    "### During the lecture we create examples together using Spyder to illustrate the following concepts\n",
    "\n",
    "- Classes and instances/objects\n",
    "    - Attributes (variables associated with a class)\n",
    "    - Methods (functions/definitions associated with a class)\n",
    "- Class and instance variables\n",
    "- Class methods\n",
    "- Inheritance (superclasses and subclasses)\n",
    "- Dunder or magic methods: e.g. __init__, __add__, __len__, __repr__\n",
    "\n",
    "The following .py files will be uploaded at the end of the lecture. \n",
    "1. module1.py - classes (attributes and methods) and objects; only instance methods are included at this stage\n",
    "2. module2.py - class variable\n",
    "3. module3.py - class methods and static methods \n",
    "4. module4.py - inheritance, superclasses vs. subclasses\n",
    "5. module5.py- overwriting dunder/magic/special methods (in lecture 11)\n",
    "\n",
    "### Preliminaries\n",
    "- **Differences between a class and an instance/object**:  class is a blueprint for the instances/objects to be created from this class. Creating an object/instance from a class is called *Instantiation*. \n",
    "\n",
    "- **Differences between a class variable and an instance variable**: class variables are shared among all instances created from this class, instance variables are unique for a particular instance.\n",
    "- **Differences between a class method and an instance method**: class method is bound to the class but not the object/instance of the class; it automatically takes a class parameter that points to the class but not the object. How about an instance method?\n",
    "- **Differenes between a class/instance method and a static method:**  Exercise to you "
   ]
  },
  {
   "cell_type": "markdown",
   "metadata": {},
   "source": [
    "## 2. More examples\n",
    "(Examples from textbook 1-Hilpisch(2018))"
   ]
  },
  {
   "cell_type": "markdown",
   "metadata": {},
   "source": [
    "###  A Vector class"
   ]
  },
  {
   "cell_type": "code",
   "execution_count": 2,
   "metadata": {},
   "outputs": [],
   "source": [
    "class Vector(object):\n",
    "    dim = 3\n",
    "    def __init__(self, x=0, y=0, z=0):\n",
    "        self.x = x\n",
    "        self.y = y\n",
    "        self.z = z\n",
    "            \n",
    "    def __repr__(self):\n",
    "        return 'Vector(%r, %r, %r)' % (self.x, self.y, self.z)        \n",
    "    \n",
    "    def __abs__(self):\n",
    "        return (self.x ** 2 +  self.y ** 2 + self.z ** 2) ** 0.5\n",
    "    \n",
    "    def __bool__(self):\n",
    "        return bool(abs(self))\n",
    "    \n",
    "    def __add__(self, other):\n",
    "        x = self.x + other.x\n",
    "        y = self.y + other.y\n",
    "        z = self.z + other.z\n",
    "        return Vector(x, y, z)\n",
    "    \n",
    "    def __mul__(self, scalar):\n",
    "        return Vector(self.x * scalar,\n",
    "                      self.y * scalar,\n",
    "                      self.z * scalar)\n",
    "    \n",
    "    def __len__(self):\n",
    "        return 3\n",
    "    \n",
    "    def __getitem__(self, i):\n",
    "        if i in [0, -3]: return '1st:{}'.format(self.x)\n",
    "        elif i in [1, -2]: return self.y\n",
    "        elif i in [2, -1]: return self.z\n",
    "        else: raise IndexError('Index out of range.')\n",
    "            \n",
    "    def __iter__(self):\n",
    "        for i in range(len(self)):\n",
    "            yield self[i]       "
   ]
  },
  {
   "cell_type": "code",
   "execution_count": 4,
   "metadata": {},
   "outputs": [
    {
     "name": "stdout",
     "output_type": "stream",
     "text": [
      "Vector(1, 2, 3)\n"
     ]
    }
   ],
   "source": [
    "myvector1 = Vector(1,2,3)\n",
    "print(myvector1)"
   ]
  },
  {
   "cell_type": "markdown",
   "metadata": {},
   "source": [
    "### In -Class-Exercise\n",
    "- change the  __repr__ method so it prints out like $[v_1, v_2, v_3]$\n",
    "- Create two vector objects, print out\n",
    "- use $[ ]$ to access the 2nd component of one vector object\n",
    "- Compute the norms of these vector objects\n",
    "- add these two vectors and print out\n",
    "- add a method for calculating Euclidean distance between two vectors $d(\\vec{u},\\vec{v}) =\\sqrt{(u_1-v_1)^2+ (u_2-v_2)^2+ (u_3-v_3)^2}$\n",
    "    - use a class method approach\n",
    "    - use an instance method approach \n",
    "- Add a class variable called $dim$, initialize this variable to 3"
   ]
  },
  {
   "cell_type": "code",
   "execution_count": 12,
   "metadata": {},
   "outputs": [],
   "source": [
    "# change the repr method so it prints out like  [𝑣1,𝑣2,𝑣3]\n",
    "class Vector(object):\n",
    "    dim = 3\n",
    "    def __init__(self, x=0, y=0, z=0):\n",
    "        self.x = x\n",
    "        self.y = y\n",
    "        self.z = z\n",
    "            \n",
    "    def __repr__(self):\n",
    "        return '[%r, %r, %r]' % (self.x, self.y, self.z)        \n",
    "    \n",
    "    def __abs__(self):\n",
    "        return (self.x ** 2 +  self.y ** 2 + self.z ** 2) ** 0.5\n",
    "    \n",
    "    def __bool__(self):\n",
    "        return bool(abs(self))\n",
    "    \n",
    "    def __add__(self, other):\n",
    "        x = self.x + other.x\n",
    "        y = self.y + other.y\n",
    "        z = self.z + other.z\n",
    "        return Vector(x, y, z)\n",
    "    \n",
    "    def __mul__(self, scalar):\n",
    "        return Vector(self.x * scalar,\n",
    "                      self.y * scalar,\n",
    "                      self.z * scalar)\n",
    "    \n",
    "    def __len__(self):\n",
    "        return 3\n",
    "    \n",
    "    def __getitem__(self, i):\n",
    "        if i in [0, -3]: return '1st:{}'.format(self.x)\n",
    "        elif i in [1, -2]: return self.y\n",
    "        elif i in [2, -1]: return self.z\n",
    "        else: raise IndexError('Index out of range.')\n",
    "            \n",
    "    def __iter__(self):\n",
    "        for i in range(len(self)):\n",
    "\n",
    "            yield self[i]       "
   ]
  },
  {
   "cell_type": "code",
   "execution_count": 13,
   "metadata": {},
   "outputs": [
    {
     "name": "stdout",
     "output_type": "stream",
     "text": [
      "vector_1 [1, 1, 3]\n",
      "vector_2 [3, 5, -6]\n",
      "the 2nd component of vector_1 1\n",
      "the 2nd component of vector_2 5\n"
     ]
    }
   ],
   "source": [
    "# Create two vector objects, print out\n",
    "vector_1 = Vector(1,1,3)\n",
    "vector_2 = Vector(3,5,-6)\n",
    "print('vector_1', vector_1)\n",
    "print('vector_2', vector_2)\n",
    "\n",
    "# use  []  to access the 2nd component of one vector object\n",
    "print('the 2nd component of vector_1', vector_1[-2])\n",
    "print('the 2nd component of vector_2', vector_2[-2])\n",
    "\n",
    "# Compute the norms of these vector objects\n",
    "\n"
   ]
  },
  {
   "cell_type": "markdown",
   "metadata": {},
   "source": [
    "## Homework 10\n"
   ]
  },
  {
   "cell_type": "markdown",
   "metadata": {},
   "source": [
    "- **Ex1**. Write a class modelling a real work object. Write a subclass of it. Create instances of your class and subclass and access variables /call methods associated with your instances/classes. \n",
    "\n",
    "    - For example you may write a class for a bicycle with attributes like **cadence**, **speed**, **gear**, methods like **applyBrake()**, **changeGear()**. A suitable subclass would be **MountainBike** which has an extra attribute **seatHeight** and method for chaning seatHeight. \n",
    "\n",
    "- **Ex2**. Read Appendix B of textbook 1 Hilpisch(2018). \n",
    "    - Make some modifications on class **bsm_call_option** in  **bsm_option_class.py**; for example you may include the case of put option by adding an attribute on option style and modify the **value()** method accordingly.\n",
    "    - Do some implementations using this class following the examples in Appendix B. \n",
    "\n",
    "You may download the module **bsm_option_class.py** in Quant Platform: https://py4fi.pqp.io/nb/portal/login or directly in Canvas. "
   ]
  },
  {
   "cell_type": "markdown",
   "metadata": {},
   "source": [
    "## References\n",
    "\n",
    "Hilpisch (2018). Python for finance: Mastering data-driven finance,  O Reilly Media"
   ]
  }
 ],
 "metadata": {
  "anaconda-cloud": {},
  "kernelspec": {
   "display_name": "Python 3",
   "language": "python",
   "name": "python3"
  },
  "language_info": {
   "codemirror_mode": {
    "name": "ipython",
    "version": 3
   },
   "file_extension": ".py",
   "mimetype": "text/x-python",
   "name": "python",
   "nbconvert_exporter": "python",
   "pygments_lexer": "ipython3",
   "version": "3.7.3"
  }
 },
 "nbformat": 4,
 "nbformat_minor": 1
}
