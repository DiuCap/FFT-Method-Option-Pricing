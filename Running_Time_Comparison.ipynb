{
 "cells": [
  {
   "cell_type": "code",
   "execution_count": 1,
   "metadata": {},
   "outputs": [
    {
     "name": "stdout",
     "output_type": "stream",
     "text": [
      "Requirement already satisfied: ipynb in /Users/abc/opt/anaconda3/lib/python3.7/site-packages (0.5.1)\r\n"
     ]
    }
   ],
   "source": [
    "## RUNNING TIME\n",
    "import time\n",
    "import numpy as np\n",
    "from scipy.integrate import quad\n",
    "from scipy import stats\n",
    "import numpy.random as npr\n",
    "np.random.seed(500)\n",
    "#Install import_ipynb so we can read dependenies as jupyter notebooks\n",
    "!pip install ipynb\n",
    "#Import jupyer notebook depdendencies \n",
    "from ipynb.fs.full.FFT_option_valuation_LEWIS import BSM_call_value_FFT, H93_call_value_FFT\n",
    "from ipynb.fs.full.Lewis_Integration_option_valuation import BSM_call_value, H93_call_value\n"
   ]
  },
  {
   "cell_type": "code",
   "execution_count": 2,
   "metadata": {},
   "outputs": [],
   "source": [
    "def BSM_call_valueAnalytical(S0, K, T, r, d, sigma):\n",
    "    ''' Valuation of European call option in BSM Model.\n",
    "    Analytical Formula.'''\n",
    "    d1 = (np.log(S0 / K) + (r-d + 0.5 * sigma ** 2) * T) / (sigma * np.sqrt(T))\n",
    "    d2 = (np.log(S0 / K) + (r-d - 0.5 * sigma ** 2) * T) / (sigma * np.sqrt(T))\n",
    "    BS_C = (S0*np.exp(-d*T)* stats.norm.cdf(d1, 0.0, 1.0) - K * np.exp(-r * T) * stats.norm.cdf(d2, 0.0, 1.0))\n",
    "    return BS_C\n",
    "\n",
    "def MC_Euler_Scheme_Heston_optionpricing(S0, K, T, r, d,\n",
    "                                         v0, kappa, theta, sigma, rho,\n",
    "                                         M, I, option = 'put', vt_disct = 'full-truncation'):\n",
    "    ''' The Monte-Carlo estimation for a European option using the \n",
    "    standard Euler-Maruyama scheme in Heston Model'''\n",
    "    \n",
    "    ran_num = npr.standard_normal((2, M + 1, I)) \n",
    "    dt = T / M\n",
    "    corr_mat = np.zeros((2, 2))\n",
    "    corr_mat[0, :] = [1.0, rho]\n",
    "    corr_mat[1, :] = [rho, 1.0]\n",
    "    cho_mat = np.linalg.cholesky(corr_mat)\n",
    "    cho_mat\n",
    "    v = np.zeros_like(ran_num[0])\n",
    "    vh = np.zeros_like(v)\n",
    "    v[0] = v0\n",
    "    vh[0] = v0\n",
    "    S = np.zeros_like(ran_num[0])    \n",
    "    S[0] = S0\n",
    "    for t in range(1, M + 1):\n",
    "    \n",
    "        ran = np.dot(cho_mat, ran_num[:, t, :])\n",
    "        if vt_disct == 'full-truncation':\n",
    "        #this scheme is called full-truncation\n",
    "            vh[t] = (vh[t - 1] + kappa * (theta - np.maximum(vh[t - 1], 0)) * dt\n",
    "                  + sigma * np.sqrt(np.maximum(vh[t - 1], 0)) * np.sqrt(dt) * ran[1])\n",
    "            v[t] = np.maximum(0, vh[t])\n",
    "        \n",
    "        #this scheme is called Reflection\n",
    "        elif vt_disct == 'reflection':\n",
    "            vh[t] = (vh[t - 1] + kappa * (theta - np.abs(vh[t - 1])) * dt\n",
    "                  + sigma * np.sqrt(np.abs(vh[t - 1])) * np.sqrt(dt) * ran[1])\n",
    "            v[t] = np.abs(vh[t])\n",
    "        \n",
    "        S[t] = S[t - 1] * np.exp((r -d - 0.5 * v[t]) * dt + np.sqrt(v[t]) * ran[0] * np.sqrt(dt))\n",
    "    if option == 'call':\n",
    "        hT = np.maximum(S[-1] - K, 0)\n",
    "    elif option == 'put':\n",
    "        hT = np.maximum(K - S[-1], 0)\n",
    "\n",
    "    # calculation of MCS estimator for option price in Heston model\n",
    "    option_price = np.exp(-(r-d) * T) * np.mean(hT)\n",
    "    \n",
    "    return option_price"
   ]
  },
  {
   "cell_type": "code",
   "execution_count": 3,
   "metadata": {},
   "outputs": [
    {
     "name": "stdout",
     "output_type": "stream",
     "text": [
      "BSM_Analytical method 0.0009229183197021484 seconds\n",
      "BSM_FT method 0.0024831295013427734 seconds\n",
      "BSM_FFT method 0.002039194107055664 seconds\n",
      "Heston_MC 18.175643920898438 seconds\n",
      "Heston_Lewis 0.006893634796142578 seconds\n",
      "Heston_FFT 0.002832174301147461 seconds\n"
     ]
    }
   ],
   "source": [
    "# Test with sythetic data\n",
    "# Comparision running time BSM model\n",
    "# BSM Parameters\n",
    "S0 = 100.0 ; K = 100.0 ; T = 1.; r = 0.05; sigma = 0.2; d = 0\n",
    "# Compare running time in one iteration\n",
    "start_time = time.time()\n",
    "BSM_call_valueAnalytical(S0, K, T, r, d, sigma)\n",
    "print(\"BSM_Analytical method\", (time.time() - start_time), \"seconds\")\n",
    "start_time = time.time()\n",
    "BSM_call_value(S0, K, T, r, d, sigma)\n",
    "print(\"BSM_FT method\", (time.time() - start_time), \"seconds\")\n",
    "start_time = time.time()\n",
    "BSM_call_value_FFT(S0, K, T, r, d, sigma)\n",
    "print(\"BSM_FFT method\", (time.time() - start_time), \"seconds\")\n",
    "\n",
    "# Comparision running time Heston model\n",
    "# Heston Parameters\n",
    "S0 = 100.0; K = 100.0; T = 1.0; r = 0.05; d = 0\n",
    "kappa_v = 2; theta_v = 0.01; sigma_v = 0.1; rho = -0.5; v0 = 0.01\n",
    "\n",
    "# MC simulation parameters:\n",
    "M = 252\n",
    "I = 500000\n",
    "start_time = time.time()\n",
    "MC_Euler_Scheme_Heston_optionpricing(S0, K, T, r, d,\n",
    "                                     v0, kappa_v, theta_v, sigma_v, rho, \n",
    "                                     M, I, option = 'call', vt_disct = 'full-truncation')\n",
    "print(\"Heston_MC\", (time.time() - start_time), \"seconds\")\n",
    "start_time = time.time()\n",
    "H93_call_value(S0, K, T, r, d, kappa_v, theta_v, sigma_v, rho, v0)\n",
    "print(\"Heston_Lewis\", (time.time() - start_time), \"seconds\")\n",
    "start_time = time.time()\n",
    "H93_call_value_FFT(S0, K, T, r, d, kappa_v, theta_v, sigma_v, rho, v0)\n",
    "print(\"Heston_FFT\", (time.time() - start_time), \"seconds\")"
   ]
  },
  {
   "cell_type": "code",
   "execution_count": null,
   "metadata": {},
   "outputs": [],
   "source": []
  },
  {
   "cell_type": "code",
   "execution_count": 4,
   "metadata": {},
   "outputs": [
    {
     "name": "stdout",
     "output_type": "stream",
     "text": [
      "Total time Heston_FT 0.8336291313171387 seconds\n",
      "Total time Heston_FFT 0.2584869861602783 seconds\n",
      "Total time Heston_MC 2343.470215320587 seconds\n"
     ]
    }
   ],
   "source": [
    "## Test with real data benchmark\n",
    "\n",
    "import pandas as pd\n",
    "options = pd.read_csv('option_data.csv')\n",
    "#Define Stock price (Ericsson B, 28.12.2020)               \n",
    "S0 = 98.36   \n",
    "#Dividend yield\n",
    "d = 0.0086\n",
    "\n",
    "# Heston Calibrated parameter vector with Lewis:  [2.438 0.116 0.751 -0.416 0.095]\n",
    "kappa_v = 2.438\n",
    "theta_v = 0.116\n",
    "sigma_v = 0.751\n",
    "rho = -0.416\n",
    "v0 = 0.095\n",
    "start_time = time.time()\n",
    "for row, option in options.iterrows():\n",
    "    H93_call_value(S0, option['Strike'], option['T'],\n",
    "                            option['r'], d, kappa_v, theta_v, sigma_v, rho, v0)\n",
    "H93_call_value_time = (time.time() - start_time)\n",
    "print(\"Total time Heston_FT\", H93_call_value_time, \"seconds\")  \n",
    "\n",
    "\n",
    "# Heston  Calibrated parameter vector with FFT:  [2.181 0.120 0.724 -0.461 0.098]\n",
    "kappa_v = 2.181\n",
    "theta_v = 0.120\n",
    "sigma_v = 0.724\n",
    "rho = -0.416\n",
    "v0 = 0.098\n",
    "start_time = time.time()\n",
    "for row, option in options.iterrows():    \n",
    "    H93_call_value_FFT(S0, option['Strike'], option['T'],\n",
    "                            option['r'], d, kappa_v, theta_v, sigma_v, rho, v0)\n",
    "    \n",
    "H93_call_value_FFT_time = (time.time() - start_time)    \n",
    "print(\"Total time Heston_FFT\", H93_call_value_FFT_time, \"seconds\")\n",
    "start_time = time.time()\n",
    "\n",
    "for row, option in options.iterrows():    \n",
    "    MC_Euler_Scheme_Heston_optionpricing(S0, option['Strike'], option['T'], option['r'], d,\n",
    "                                     v0, kappa_v, theta_v, sigma_v, rho, \n",
    "                                     M, I, option = 'call', vt_disct = 'full-truncation')\n",
    "MC_Euler_Scheme_Heston_optionpricing_time = (time.time() - start_time)    \n",
    "print(\"Total time Heston_MC\", MC_Euler_Scheme_Heston_optionpricing_time, \"seconds\")    "
   ]
  },
  {
   "cell_type": "code",
   "execution_count": null,
   "metadata": {},
   "outputs": [],
   "source": []
  }
 ],
 "metadata": {
  "kernelspec": {
   "display_name": "Python 3",
   "language": "python",
   "name": "python3"
  },
  "language_info": {
   "codemirror_mode": {
    "name": "ipython",
    "version": 3
   },
   "file_extension": ".py",
   "mimetype": "text/x-python",
   "name": "python",
   "nbconvert_exporter": "python",
   "pygments_lexer": "ipython3",
   "version": "3.7.6"
  }
 },
 "nbformat": 4,
 "nbformat_minor": 4
}
