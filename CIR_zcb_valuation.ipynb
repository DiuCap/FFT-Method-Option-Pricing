{
 "cells": [
  {
   "cell_type": "code",
   "execution_count": null,
   "metadata": {},
   "outputs": [],
   "source": [
    "#Valuation of Zero-Coupon Bonds in Cox-Ingersoll-Ross (1985) Model\n",
    "\n",
    "#Import necessary packages\n",
    "import math\n",
    "import numpy as np\n",
    "\n",
    "#Calculate gamma part of CIR zero coupon price formula\n",
    "def gamma(kappa_r, sigma_r):\n",
    "    ''' Help Function. '''\n",
    "    return math.sqrt(kappa_r ** 2 + 2 * sigma_r ** 2)\n",
    "\n",
    "#Calculate b1 part of CIR zero coupon price formula\n",
    "def b1(alpha):\n",
    "    ''' Help Function. '''\n",
    "    kappa_r, theta_r, sigma_r, r0, T = alpha\n",
    "    g = gamma(kappa_r, sigma_r)\n",
    "    return (((2 * g * math.exp((kappa_r + g) * T / 2)) /\n",
    "            (2 * g + (kappa_r + g) * (math.exp(g * T) - 1)))\n",
    "            ** (2 * kappa_r * theta_r / sigma_r ** 2))\n",
    "\n",
    "#Caculate b2 part of CIR zero coupon price formula\n",
    "def b2(alpha):\n",
    "    ''' Help Function. '''\n",
    "    kappa_r, theta_r, sigma_r, r0, T = alpha\n",
    "    g = gamma(kappa_r, sigma_r)\n",
    "    return ((2 * (math.exp(g * T) - 1)) /\n",
    "            (2 * g + (kappa_r + g) * (math.exp(g * T) - 1)))\n",
    "\n",
    "#ZCB pricing. Put it all together.\n",
    "def B(alpha):\n",
    "    ''' Function to value unit zero-coupon bonds in Cox-Ingersoll-Ross (1985) \n",
    "    model.\n",
    "\n",
    "    Parameters\n",
    "    ==========\n",
    "    r0: float\n",
    "        initial short rate\n",
    "    kappa_r: float\n",
    "        mean-reversion factor\n",
    "    theta_r: float\n",
    "        long-run mean of short rate\n",
    "    sigma_r: float\n",
    "        volatility of short rate\n",
    "    T: float\n",
    "        time horizon/interval\n",
    "\n",
    "    Returns\n",
    "    =======\n",
    "    zcb_value: float\n",
    "        zero-coupon bond present value\n",
    "    ''' \n",
    "    b_1 = b1(alpha)\n",
    "    b_2 = b2(alpha)\n",
    "    kappa_r, theta_r, sigma_r, r0, T = alpha\n",
    "    return b_1 * math.exp(-b_2 * r0)"
   ]
  },
  {
   "cell_type": "code",
   "execution_count": null,
   "metadata": {},
   "outputs": [],
   "source": []
  }
 ],
 "metadata": {
  "kernelspec": {
   "display_name": "Python 3",
   "language": "python",
   "name": "python3"
  },
  "language_info": {
   "codemirror_mode": {
    "name": "ipython",
    "version": 3
   },
   "file_extension": ".py",
   "mimetype": "text/x-python",
   "name": "python",
   "nbconvert_exporter": "python",
   "pygments_lexer": "ipython3",
   "version": "3.8.3"
  }
 },
 "nbformat": 4,
 "nbformat_minor": 4
}
