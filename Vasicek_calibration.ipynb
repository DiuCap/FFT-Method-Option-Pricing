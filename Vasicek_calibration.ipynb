{
 "cells": [
  {
   "cell_type": "code",
   "execution_count": 10,
   "metadata": {},
   "outputs": [],
   "source": [
    "# Calibration of Vasicek model to Stibor Market Rates\n",
    "\n",
    "#Import necessary packages\n",
    "import numpy as np\n",
    "import scipy.interpolate as sci\n",
    "from scipy.optimize import fmin\n",
    "\n",
    "\n",
    "#Market data for calibration Updated with Stibor on 23 December 2020.\n",
    "t_list = np.array((1, 7, 30, 60, 90, 180, 360)) / 360.\n",
    "r_list =  np.array((-0.058, -0.099, -0.121, -0.106, -0.096, -0.053, -0.016)) / 100\n",
    "\n",
    "#Calculate zero rates\n",
    "factors = (1 + t_list * r_list)\n",
    "zero_rates = 1 / t_list * np.log(factors)\n",
    "\n",
    "#Today's rate \n",
    "r0 = r_list[0] # set to 1-day Stibor \n",
    "\n",
    "#Interpolation of Market Data              # Find the B-spline representation of a 1-D curve.\n",
    "tck = sci.splrep(t_list, zero_rates, k=3)  # Cubic splines to interpolate. k = degree of spline fit.\n",
    "tn_list = np.linspace(0.0, 1.0, 24)        \n",
    "ts_list = sci.splev(tn_list, tck, der=0)   #Evaluate a B-spline or its derivatives\n",
    "de_list = sci.splev(tn_list, tck, der=1)\n",
    "\n",
    "#Forward rate transformation\n",
    "f = ts_list + de_list * tn_list\n",
    "\n",
    "# Vasicek model calulation of Forward Rates\n",
    "def Vasicek_forward_rate(opt):\n",
    "    kappa_r, theta_r, sigma_r = opt #mean-reversion factor, long-run mean, volatility factor = opt\n",
    "    t = tn_list\n",
    "    forward_rate = theta_r + np.exp(-kappa_r * t) * (r0 - theta_r) \\\n",
    "                - (sigma_r**2 / (2 * kappa_r**2)) * (1 - np.exp(- kappa_r * t))**2\n",
    "    return forward_rate\n",
    "\n",
    "#MSE loss function \n",
    "def Vasicek_error_function(opt):\n",
    "    kappa_r, theta_r, sigma_r = opt\n",
    "    if 2 * kappa_r * theta_r < sigma_r ** 2:\n",
    "        return 100\n",
    "    if theta_r < 0 or sigma_r < 0.001:\n",
    "        return 100\n",
    "    forward_rates = Vasicek_forward_rate(opt)\n",
    "    MSE = np.sum((f - forward_rates) ** 2) / len(f)\n",
    "    return MSE\n",
    "\n",
    "\n",
    "#Calibration using downhill simplex algorithm\n",
    "def Vasicek_calibration():\n",
    "    opt = fmin(Vasicek_error_function, [1.0, 0.02, 0.1],\n",
    "            xtol=0.00001, ftol=0.00001,\n",
    "            maxiter=1000, maxfun=1000)\n",
    "    return opt"
   ]
  },
  {
   "cell_type": "code",
   "execution_count": null,
   "metadata": {},
   "outputs": [],
   "source": []
  }
 ],
 "metadata": {
  "kernelspec": {
   "display_name": "Python 3",
   "language": "python",
   "name": "python3"
  },
  "language_info": {
   "codemirror_mode": {
    "name": "ipython",
    "version": 3
   },
   "file_extension": ".py",
   "mimetype": "text/x-python",
   "name": "python",
   "nbconvert_exporter": "python",
   "pygments_lexer": "ipython3",
   "version": "3.8.3"
  }
 },
 "nbformat": 4,
 "nbformat_minor": 4
}
