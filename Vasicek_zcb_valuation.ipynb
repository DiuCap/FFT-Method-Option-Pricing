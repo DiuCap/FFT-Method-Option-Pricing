{
 "cells": [
  {
   "cell_type": "code",
   "execution_count": null,
   "metadata": {},
   "outputs": [],
   "source": [
    "#Valuation of Zero-Coupon Bonds in Vasicek model\n",
    "\n",
    "#Import necessary packages\n",
    "import numpy as np\n",
    "\n",
    "#Calculate A(0,T) and B(0,T) in Vasiceks affine interest model\n",
    "def B(alpha):\n",
    "    kappa_r, theta_r, sigma_r, r0, T = alpha\n",
    "    return (1-np.exp(-kappa_r * T))/kappa_r\n",
    "\n",
    "def A(alpha):\n",
    "    kappa_r, theta_r, sigma_r, r0, T = alpha\n",
    "    bb_2 = (1-np.exp(-kappa_r * T))/kappa_r\n",
    "    return np.exp((((bb_2) - T)*(kappa_r**2 * theta_r - sigma_r**2/2)) / kappa_r**2 - (sigma_r**2 * bb_2**2) \\\n",
    "            / (4*kappa_r))  \n",
    "\n",
    "#ZCB pricing. Put it all together.\n",
    "def zcb_price(alpha):\n",
    "    kappa_r, theta_r, sigma_r, r0, T = alpha\n",
    "    A_T = A(alpha)\n",
    "    B_T = B(alpha)\n",
    "    return A_T * np.exp(-B_T * r0)"
   ]
  }
 ],
 "metadata": {
  "kernelspec": {
   "display_name": "Python 3",
   "language": "python",
   "name": "python3"
  },
  "language_info": {
   "codemirror_mode": {
    "name": "ipython",
    "version": 3
   },
   "file_extension": ".py",
   "mimetype": "text/x-python",
   "name": "python",
   "nbconvert_exporter": "python",
   "pygments_lexer": "ipython3",
   "version": "3.8.3"
  }
 },
 "nbformat": 4,
 "nbformat_minor": 4
}
