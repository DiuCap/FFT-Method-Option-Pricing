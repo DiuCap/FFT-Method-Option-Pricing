{
 "cells": [
  {
   "cell_type": "code",
   "execution_count": 1,
   "metadata": {},
   "outputs": [
    {
     "name": "stdout",
     "output_type": "stream",
     "text": [
      "Requirement already satisfied: ipynb in c:\\users\\miche\\anaconda3\\lib\\site-packages (0.5.1)\n"
     ]
    }
   ],
   "source": [
    "#Import necessary packages\n",
    "import numpy as np\n",
    "from scipy.integrate import quad\n",
    "from scipy import stats\n",
    "import warnings\n",
    "warnings.simplefilter('ignore')\n",
    "\n",
    "#Install import_ipynb so we can read dependenies as jupyter notebooks\n",
    "!pip install ipynb\n",
    "\n",
    "#Import jupyer notebook depdendencies \n",
    "from ipynb.fs.full.FFT_option_valuation_LEWIS import BSM_call_value_FFT, H93_call_value_FFT\n",
    "from ipynb.fs.full.Lewis_Integration_option_valuation import BSM_call_value, H93_call_value\n"
   ]
  },
  {
   "cell_type": "code",
   "execution_count": 2,
   "metadata": {},
   "outputs": [],
   "source": [
    "#BSM analytical formula\n",
    "\n",
    "def BSM_call_valueAnalytical(S0, K, T, r, d, sigma):\n",
    "    ''' Valuation of European call option in BSM Model.\n",
    "    --> Analytical Formula.\n",
    "    Parameters\n",
    "    ==========\n",
    "    S0: float\n",
    "    initial stock/index level\n",
    "    K: float\n",
    "    strike price\n",
    "    T: float\n",
    "    time-to-maturity (for t=0)\n",
    "    r: float\n",
    "    constant risk-free short rate\n",
    "    d: float\n",
    "    dividend yield\n",
    "    sigma: float\n",
    "    volatility factor in diffusion term\n",
    "    Returns\n",
    "    =======\n",
    "    call_value: float\n",
    "    European call option present value\n",
    "    '''\n",
    "    d1 = (np.log(S0 / K) + (r-d + 0.5 * sigma ** 2) * T) / (sigma * np.sqrt(T))\n",
    "    d2 = (np.log(S0 / K) + (r-d - 0.5 * sigma ** 2) * T) / (sigma * np.sqrt(T))\n",
    "    BS_C = (S0*np.exp(-d*T)* stats.norm.cdf(d1, 0.0, 1.0) - K * np.exp(-r * T) * stats.norm.cdf(d2, 0.0, 1.0))\n",
    "    return BS_C\n"
   ]
  },
  {
   "cell_type": "code",
   "execution_count": 4,
   "metadata": {},
   "outputs": [],
   "source": [
    "# BSM Parameters\n",
    "S0 = 100.0\n",
    "K = 100.0\n",
    "T = 1.\n",
    "r = 0.05\n",
    "sigma = 0.2\n",
    "d = 0"
   ]
  },
  {
   "cell_type": "code",
   "execution_count": 5,
   "metadata": {},
   "outputs": [
    {
     "data": {
      "text/plain": [
       "10.450583572184826"
      ]
     },
     "execution_count": 5,
     "metadata": {},
     "output_type": "execute_result"
    }
   ],
   "source": [
    "BSM_call_value(S0, K, T, r, d, sigma)"
   ]
  },
  {
   "cell_type": "code",
   "execution_count": 6,
   "metadata": {},
   "outputs": [
    {
     "data": {
      "text/plain": [
       "10.450813049892247"
      ]
     },
     "execution_count": 6,
     "metadata": {},
     "output_type": "execute_result"
    }
   ],
   "source": [
    "BSM_call_value_FFT(S0, K, T, r, d, sigma)"
   ]
  },
  {
   "cell_type": "code",
   "execution_count": 7,
   "metadata": {},
   "outputs": [
    {
     "data": {
      "text/plain": [
       "10.450583572185565"
      ]
     },
     "execution_count": 7,
     "metadata": {},
     "output_type": "execute_result"
    }
   ],
   "source": [
    "BSM_call_valueAnalytical(S0, K, T, r, d, sigma)"
   ]
  },
  {
   "cell_type": "code",
   "execution_count": 8,
   "metadata": {},
   "outputs": [],
   "source": [
    "import numpy.random as npr\n",
    "np.random.seed(1500)\n",
    "\n",
    "def H93_call_value_MC(S0, strike, T, v0, kappa, theta, sigma, rho, r, d, M, I):\n",
    "    ''' Price of European Call option under Heston model (Montecarlo Simulation)\n",
    "    Parameters\n",
    "    ==========\n",
    "    S0 :     float, initial stock value\n",
    "    strike : float,  strike price\n",
    "    T:       float,  maturity date (in year fractions)\n",
    "    v0 :     float, initial instantaneous variance value\n",
    "    kappa :  float, mean-reversion rate\n",
    "    theta :  float, long-run average of the variance\n",
    "    sigma :  float, vol-vol\n",
    "    rho :    float, instanteneous correlation of Wiener processes\n",
    "    r :      float, constant risk-free short rate\n",
    "    d :      float, dividend yield\n",
    "    M:       int,   number of time steps\n",
    "    I:       int,   number of simulation pathes\n",
    "    \n",
    "    Returns\n",
    "    =======\n",
    "    C0: float, Price European Call\n",
    "    '''\n",
    "        \n",
    "    #cho_mat\n",
    "    corr_mat = np.zeros((2, 2))\n",
    "    corr_mat[0, :] = [1.0, rho]\n",
    "    corr_mat[1, :] = [rho, 1.0]\n",
    "    cho_mat = np.linalg.cholesky(corr_mat)\n",
    "    \n",
    "    ran_num = npr.standard_normal((2, M + 1, I)) \n",
    "    dt = T / M\n",
    "    \n",
    "    # row represents each path, column represents time epoches\n",
    "    # different from the lecture note where we used row for time, column for pathes\n",
    "    vh = np.zeros((I, M+1)) \n",
    "    vh[:, 0] = v0\n",
    "    S = np.zeros((I, M+1)) \n",
    "    S[:, 0] = S0\n",
    "    \n",
    "    for t in range(1, M + 1):\n",
    "        ran = np.dot(cho_mat, ran_num[:, t, :])\n",
    "        vh[:, t] = (vh[:, t - 1] + kappa * (theta - np.maximum(vh[:, t - 1], 0)) * dt\n",
    "          + sigma * np.sqrt(np.maximum(vh[:, t - 1], 0)) * np.sqrt(dt)  \n",
    "          * ran[1])\n",
    "        vh[:, t] = np.maximum(0, vh[:,t])\n",
    "        S[:, t] = S[:, t - 1] * np.exp((r - d - 0.5 * vh[:, t]) * dt + np.sqrt(vh[:, t]) * ran[0] * np.sqrt(dt))\n",
    "    \n",
    "    ST = S[:, -1]\n",
    "    hT = np.maximum(ST - strike, 0)\n",
    "    # calculate MCS estimator\n",
    "    C0 = np.exp(-(r-d) * T) * np.mean(hT)\n",
    "    return C0"
   ]
  },
  {
   "cell_type": "code",
   "execution_count": 9,
   "metadata": {},
   "outputs": [],
   "source": [
    "# Heston Parameters\n",
    "S0 = 100.0\n",
    "K = 100.0\n",
    "T = 1.0\n",
    "r = 0.05\n",
    "kappa_v = 2\n",
    "theta_v = 0.01\n",
    "sigma_v = 0.1\n",
    "rho = -0.5\n",
    "v0 = 0.01\n",
    "d = 0"
   ]
  },
  {
   "cell_type": "code",
   "execution_count": 10,
   "metadata": {},
   "outputs": [
    {
     "data": {
      "text/plain": [
       "6.874940187021394"
      ]
     },
     "execution_count": 10,
     "metadata": {},
     "output_type": "execute_result"
    }
   ],
   "source": [
    "H93_call_value(S0, K, T, r, d, kappa_v, theta_v, sigma_v, rho, v0)"
   ]
  },
  {
   "cell_type": "code",
   "execution_count": 11,
   "metadata": {},
   "outputs": [
    {
     "data": {
      "text/plain": [
       "6.87516966472441"
      ]
     },
     "execution_count": 11,
     "metadata": {},
     "output_type": "execute_result"
    }
   ],
   "source": [
    "H93_call_value_FFT(S0, K, T, r, d, kappa_v, theta_v, sigma_v, rho, v0)"
   ]
  },
  {
   "cell_type": "code",
   "execution_count": 12,
   "metadata": {},
   "outputs": [
    {
     "data": {
      "text/plain": [
       "5.179618683296158"
      ]
     },
     "execution_count": 12,
     "metadata": {},
     "output_type": "execute_result"
    }
   ],
   "source": [
    "M = 250\n",
    "I = 500000\n",
    "H93_call_value_MC(S0, K, T, v0, kappa_v, theta_v, sigma_v, rho, r, d, M, I)"
   ]
  }
 ],
 "metadata": {
  "kernelspec": {
   "display_name": "Python 3",
   "language": "python",
   "name": "python3"
  },
  "language_info": {
   "codemirror_mode": {
    "name": "ipython",
    "version": 3
   },
   "file_extension": ".py",
   "mimetype": "text/x-python",
   "name": "python",
   "nbconvert_exporter": "python",
   "pygments_lexer": "ipython3",
   "version": "3.7.4"
  }
 },
 "nbformat": 4,
 "nbformat_minor": 4
}
