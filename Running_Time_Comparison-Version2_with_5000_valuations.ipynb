{
 "cells": [
  {
   "cell_type": "code",
   "execution_count": 1,
   "metadata": {},
   "outputs": [
    {
     "name": "stdout",
     "output_type": "stream",
     "text": [
      "Requirement already satisfied: ipynb in /Users/abc/opt/anaconda3/lib/python3.7/site-packages (0.5.1)\r\n"
     ]
    }
   ],
   "source": [
    "## RUNNING TIME\n",
    "import time\n",
    "import numpy as np\n",
    "from scipy.integrate import quad\n",
    "from scipy import stats\n",
    "import numpy.random as npr\n",
    "np.random.seed(500)\n",
    "#Install import_ipynb so we can read dependenies as jupyter notebooks\n",
    "!pip install ipynb\n",
    "#Import jupyer notebook depdendencies \n",
    "from ipynb.fs.full.FFT_option_valuation_LEWIS import BSM_call_value_FFT, H93_call_value_FFT\n",
    "from ipynb.fs.full.Lewis_Integration_option_valuation import BSM_call_value, H93_call_value\n"
   ]
  },
  {
   "cell_type": "code",
   "execution_count": 2,
   "metadata": {},
   "outputs": [],
   "source": [
    "def BSM_call_valueAnalytical(S0, K, T, r, d, sigma):\n",
    "    ''' Valuation of European call option in BSM Model.\n",
    "    Analytical Formula.'''\n",
    "    d1 = (np.log(S0 / K) + (r-d + 0.5 * sigma ** 2) * T) / (sigma * np.sqrt(T))\n",
    "    d2 = (np.log(S0 / K) + (r-d - 0.5 * sigma ** 2) * T) / (sigma * np.sqrt(T))\n",
    "    BS_C = (S0*np.exp(-d*T)* stats.norm.cdf(d1, 0.0, 1.0) - K * np.exp(-r * T) * stats.norm.cdf(d2, 0.0, 1.0))\n",
    "    return BS_C\n",
    "\n",
    "def MC_Euler_Scheme_Heston_optionpricing(S0, K, T, r, d,\n",
    "                                         v0, kappa, theta, sigma, rho,\n",
    "                                         M, I, option = 'put', vt_disct = 'full-truncation'):\n",
    "    ''' The Monte-Carlo estimation for a European option using the \n",
    "    standard Euler-Maruyama scheme in Heston Model'''\n",
    "    \n",
    "    ran_num = npr.standard_normal((2, M + 1, I)) \n",
    "    dt = T / M\n",
    "    corr_mat = np.zeros((2, 2))\n",
    "    corr_mat[0, :] = [1.0, rho]\n",
    "    corr_mat[1, :] = [rho, 1.0]\n",
    "    cho_mat = np.linalg.cholesky(corr_mat)\n",
    "    cho_mat\n",
    "    v = np.zeros_like(ran_num[0])\n",
    "    vh = np.zeros_like(v)\n",
    "    v[0] = v0\n",
    "    vh[0] = v0\n",
    "    S = np.zeros_like(ran_num[0])    \n",
    "    S[0] = S0\n",
    "    for t in range(1, M + 1):\n",
    "    \n",
    "        ran = np.dot(cho_mat, ran_num[:, t, :])\n",
    "        if vt_disct == 'full-truncation':\n",
    "        #this scheme is called full-truncation\n",
    "            vh[t] = (vh[t - 1] + kappa * (theta - np.maximum(vh[t - 1], 0)) * dt\n",
    "                  + sigma * np.sqrt(np.maximum(vh[t - 1], 0)) * np.sqrt(dt) * ran[1])\n",
    "            v[t] = np.maximum(0, vh[t])\n",
    "        \n",
    "        #this scheme is called Reflection\n",
    "        elif vt_disct == 'reflection':\n",
    "            vh[t] = (vh[t - 1] + kappa * (theta - np.abs(vh[t - 1])) * dt\n",
    "                  + sigma * np.sqrt(np.abs(vh[t - 1])) * np.sqrt(dt) * ran[1])\n",
    "            v[t] = np.abs(vh[t])\n",
    "        \n",
    "        S[t] = S[t - 1] * np.exp((r -d - 0.5 * v[t]) * dt + np.sqrt(v[t]) * ran[0] * np.sqrt(dt))\n",
    "    if option == 'call':\n",
    "        hT = np.maximum(S[-1] - K, 0)\n",
    "    elif option == 'put':\n",
    "        hT = np.maximum(K - S[-1], 0)\n",
    "\n",
    "    # calculation of MCS estimator for option price in Heston model\n",
    "    option_price = np.exp(-(r-d) * T) * np.mean(hT)\n",
    "    \n",
    "    return option_price"
   ]
  },
  {
   "cell_type": "code",
   "execution_count": 3,
   "metadata": {},
   "outputs": [
    {
     "name": "stdout",
     "output_type": "stream",
     "text": [
      "BSM_Analytical method 0.002888917922973633 seconds\n",
      "BSM_FT method 0.003695249557495117 seconds\n",
      "BSM_FFT method 0.003710031509399414 seconds\n",
      "Heston_MC 20.149394989013672 seconds\n",
      "Heston_Lewis 0.008938312530517578 seconds\n",
      "Heston_FFT 0.003258943557739258 seconds\n"
     ]
    }
   ],
   "source": [
    "# Test with sythetic data\n",
    "# Comparision running time BSM model\n",
    "# BSM Parameters\n",
    "S0 = 100.0 ; K = 100.0 ; T = 1.; r = 0.05; sigma = 0.2; d = 0\n",
    "# Compare running time in one iteration\n",
    "start_time = time.time()\n",
    "BSM_call_valueAnalytical(S0, K, T, r, d, sigma)\n",
    "print(\"BSM_Analytical method\", (time.time() - start_time), \"seconds\")\n",
    "start_time = time.time()\n",
    "BSM_call_value(S0, K, T, r, d, sigma)\n",
    "print(\"BSM_FT method\", (time.time() - start_time), \"seconds\")\n",
    "start_time = time.time()\n",
    "BSM_call_value_FFT(S0, K, T, r, d, sigma)\n",
    "print(\"BSM_FFT method\", (time.time() - start_time), \"seconds\")\n",
    "\n",
    "# Comparision running time Heston model\n",
    "# Heston Parameters\n",
    "S0 = 100.0; K = 100.0; T = 1.0; r = 0.05; d = 0\n",
    "kappa_v = 2; theta_v = 0.01; sigma_v = 0.1; rho = -0.5; v0 = 0.01\n",
    "\n",
    "# MC simulation parameters:\n",
    "M = 252\n",
    "I = 500000\n",
    "start_time = time.time()\n",
    "MC_Euler_Scheme_Heston_optionpricing(S0, K, T, r, d,\n",
    "                                     v0, kappa_v, theta_v, sigma_v, rho, \n",
    "                                     M, I, option = 'call', vt_disct = 'full-truncation')\n",
    "print(\"Heston_MC\", (time.time() - start_time), \"seconds\")\n",
    "start_time = time.time()\n",
    "H93_call_value(S0, K, T, r, d, kappa_v, theta_v, sigma_v, rho, v0)\n",
    "print(\"Heston_Lewis\", (time.time() - start_time), \"seconds\")\n",
    "start_time = time.time()\n",
    "H93_call_value_FFT(S0, K, T, r, d, kappa_v, theta_v, sigma_v, rho, v0)\n",
    "print(\"Heston_FFT\", (time.time() - start_time), \"seconds\")"
   ]
  },
  {
   "cell_type": "code",
   "execution_count": 4,
   "metadata": {},
   "outputs": [
    {
     "data": {
      "text/html": [
       "<div>\n",
       "<style scoped>\n",
       "    .dataframe tbody tr th:only-of-type {\n",
       "        vertical-align: middle;\n",
       "    }\n",
       "\n",
       "    .dataframe tbody tr th {\n",
       "        vertical-align: top;\n",
       "    }\n",
       "\n",
       "    .dataframe thead th {\n",
       "        text-align: right;\n",
       "    }\n",
       "</style>\n",
       "<table border=\"1\" class=\"dataframe\">\n",
       "  <thead>\n",
       "    <tr style=\"text-align: right;\">\n",
       "      <th></th>\n",
       "      <th>Maturity</th>\n",
       "      <th>Strike</th>\n",
       "      <th>Call</th>\n",
       "      <th>Date</th>\n",
       "      <th>T</th>\n",
       "      <th>r</th>\n",
       "      <th>impVol</th>\n",
       "      <th>Model FFT</th>\n",
       "      <th>Model LEWIS</th>\n",
       "      <th>err FFT</th>\n",
       "      <th>err LEWIS</th>\n",
       "    </tr>\n",
       "  </thead>\n",
       "  <tbody>\n",
       "    <tr>\n",
       "      <th>0</th>\n",
       "      <td>2021-01-08</td>\n",
       "      <td>85.0</td>\n",
       "      <td>13.500</td>\n",
       "      <td>2020-12-28</td>\n",
       "      <td>0.030137</td>\n",
       "      <td>-0.000491</td>\n",
       "      <td>0.508845</td>\n",
       "      <td>13.500216</td>\n",
       "      <td>13.500000</td>\n",
       "      <td>0.000016</td>\n",
       "      <td>5.052748e-14</td>\n",
       "    </tr>\n",
       "    <tr>\n",
       "      <th>1</th>\n",
       "      <td>2021-01-08</td>\n",
       "      <td>87.5</td>\n",
       "      <td>11.000</td>\n",
       "      <td>2020-12-28</td>\n",
       "      <td>0.030137</td>\n",
       "      <td>-0.000491</td>\n",
       "      <td>0.425509</td>\n",
       "      <td>11.000219</td>\n",
       "      <td>11.000000</td>\n",
       "      <td>0.000020</td>\n",
       "      <td>6.201100e-14</td>\n",
       "    </tr>\n",
       "    <tr>\n",
       "      <th>2</th>\n",
       "      <td>2021-01-08</td>\n",
       "      <td>90.0</td>\n",
       "      <td>8.500</td>\n",
       "      <td>2020-12-28</td>\n",
       "      <td>0.030137</td>\n",
       "      <td>-0.000491</td>\n",
       "      <td>0.341989</td>\n",
       "      <td>8.500221</td>\n",
       "      <td>8.500000</td>\n",
       "      <td>0.000026</td>\n",
       "      <td>1.891883e-11</td>\n",
       "    </tr>\n",
       "    <tr>\n",
       "      <th>3</th>\n",
       "      <td>2021-01-08</td>\n",
       "      <td>92.5</td>\n",
       "      <td>6.000</td>\n",
       "      <td>2020-12-28</td>\n",
       "      <td>0.030137</td>\n",
       "      <td>-0.000491</td>\n",
       "      <td>0.257192</td>\n",
       "      <td>6.000224</td>\n",
       "      <td>6.000001</td>\n",
       "      <td>0.000037</td>\n",
       "      <td>1.008760e-07</td>\n",
       "    </tr>\n",
       "    <tr>\n",
       "      <th>4</th>\n",
       "      <td>2021-01-08</td>\n",
       "      <td>95.0</td>\n",
       "      <td>3.900</td>\n",
       "      <td>2020-12-28</td>\n",
       "      <td>0.030137</td>\n",
       "      <td>-0.000491</td>\n",
       "      <td>0.261689</td>\n",
       "      <td>3.900227</td>\n",
       "      <td>3.900000</td>\n",
       "      <td>0.000058</td>\n",
       "      <td>9.918865e-08</td>\n",
       "    </tr>\n",
       "    <tr>\n",
       "      <th>...</th>\n",
       "      <td>...</td>\n",
       "      <td>...</td>\n",
       "      <td>...</td>\n",
       "      <td>...</td>\n",
       "      <td>...</td>\n",
       "      <td>...</td>\n",
       "      <td>...</td>\n",
       "      <td>...</td>\n",
       "      <td>...</td>\n",
       "      <td>...</td>\n",
       "      <td>...</td>\n",
       "    </tr>\n",
       "    <tr>\n",
       "      <th>65</th>\n",
       "      <td>2021-12-17</td>\n",
       "      <td>80.0</td>\n",
       "      <td>21.750</td>\n",
       "      <td>2020-12-28</td>\n",
       "      <td>0.969863</td>\n",
       "      <td>0.000721</td>\n",
       "      <td>0.310039</td>\n",
       "      <td>21.750209</td>\n",
       "      <td>21.750000</td>\n",
       "      <td>0.000010</td>\n",
       "      <td>3.070851e-14</td>\n",
       "    </tr>\n",
       "    <tr>\n",
       "      <th>66</th>\n",
       "      <td>2021-12-17</td>\n",
       "      <td>90.0</td>\n",
       "      <td>15.500</td>\n",
       "      <td>2020-12-28</td>\n",
       "      <td>0.969863</td>\n",
       "      <td>0.000721</td>\n",
       "      <td>0.307944</td>\n",
       "      <td>15.500220</td>\n",
       "      <td>15.500000</td>\n",
       "      <td>0.000014</td>\n",
       "      <td>4.675830e-14</td>\n",
       "    </tr>\n",
       "    <tr>\n",
       "      <th>67</th>\n",
       "      <td>2021-12-17</td>\n",
       "      <td>100.0</td>\n",
       "      <td>10.750</td>\n",
       "      <td>2020-12-28</td>\n",
       "      <td>0.969863</td>\n",
       "      <td>0.000721</td>\n",
       "      <td>0.308097</td>\n",
       "      <td>10.750232</td>\n",
       "      <td>10.750000</td>\n",
       "      <td>0.000022</td>\n",
       "      <td>7.006282e-14</td>\n",
       "    </tr>\n",
       "    <tr>\n",
       "      <th>68</th>\n",
       "      <td>2021-12-17</td>\n",
       "      <td>110.0</td>\n",
       "      <td>6.800</td>\n",
       "      <td>2020-12-28</td>\n",
       "      <td>0.969863</td>\n",
       "      <td>0.000721</td>\n",
       "      <td>0.295504</td>\n",
       "      <td>6.800244</td>\n",
       "      <td>6.800000</td>\n",
       "      <td>0.000036</td>\n",
       "      <td>1.132427e-13</td>\n",
       "    </tr>\n",
       "    <tr>\n",
       "      <th>69</th>\n",
       "      <td>2021-12-17</td>\n",
       "      <td>120.0</td>\n",
       "      <td>4.125</td>\n",
       "      <td>2020-12-28</td>\n",
       "      <td>0.969863</td>\n",
       "      <td>0.000721</td>\n",
       "      <td>0.287091</td>\n",
       "      <td>4.125256</td>\n",
       "      <td>4.125000</td>\n",
       "      <td>0.000062</td>\n",
       "      <td>2.032583e-13</td>\n",
       "    </tr>\n",
       "  </tbody>\n",
       "</table>\n",
       "<p>70 rows × 11 columns</p>\n",
       "</div>"
      ],
      "text/plain": [
       "      Maturity  Strike    Call        Date         T         r    impVol  \\\n",
       "0   2021-01-08    85.0  13.500  2020-12-28  0.030137 -0.000491  0.508845   \n",
       "1   2021-01-08    87.5  11.000  2020-12-28  0.030137 -0.000491  0.425509   \n",
       "2   2021-01-08    90.0   8.500  2020-12-28  0.030137 -0.000491  0.341989   \n",
       "3   2021-01-08    92.5   6.000  2020-12-28  0.030137 -0.000491  0.257192   \n",
       "4   2021-01-08    95.0   3.900  2020-12-28  0.030137 -0.000491  0.261689   \n",
       "..         ...     ...     ...         ...       ...       ...       ...   \n",
       "65  2021-12-17    80.0  21.750  2020-12-28  0.969863  0.000721  0.310039   \n",
       "66  2021-12-17    90.0  15.500  2020-12-28  0.969863  0.000721  0.307944   \n",
       "67  2021-12-17   100.0  10.750  2020-12-28  0.969863  0.000721  0.308097   \n",
       "68  2021-12-17   110.0   6.800  2020-12-28  0.969863  0.000721  0.295504   \n",
       "69  2021-12-17   120.0   4.125  2020-12-28  0.969863  0.000721  0.287091   \n",
       "\n",
       "    Model FFT  Model LEWIS   err FFT     err LEWIS  \n",
       "0   13.500216    13.500000  0.000016  5.052748e-14  \n",
       "1   11.000219    11.000000  0.000020  6.201100e-14  \n",
       "2    8.500221     8.500000  0.000026  1.891883e-11  \n",
       "3    6.000224     6.000001  0.000037  1.008760e-07  \n",
       "4    3.900227     3.900000  0.000058  9.918865e-08  \n",
       "..        ...          ...       ...           ...  \n",
       "65  21.750209    21.750000  0.000010  3.070851e-14  \n",
       "66  15.500220    15.500000  0.000014  4.675830e-14  \n",
       "67  10.750232    10.750000  0.000022  7.006282e-14  \n",
       "68   6.800244     6.800000  0.000036  1.132427e-13  \n",
       "69   4.125256     4.125000  0.000062  2.032583e-13  \n",
       "\n",
       "[70 rows x 11 columns]"
      ]
     },
     "execution_count": 4,
     "metadata": {},
     "output_type": "execute_result"
    }
   ],
   "source": [
    "import pandas as pd\n",
    "options = pd.read_csv('bsm_option_data.csv')\n",
    "options"
   ]
  },
  {
   "cell_type": "code",
   "execution_count": 5,
   "metadata": {},
   "outputs": [
    {
     "name": "stdout",
     "output_type": "stream",
     "text": [
      "Total time Heston_FT 0.46665334701538086 seconds\n",
      "Total time Heston_FFT 0.1391890048980713 seconds\n",
      "Total time Heston_MC 1137.0668470859528 seconds\n"
     ]
    }
   ],
   "source": [
    "# Test with real data benchmark\n",
    "\n",
    "import pandas as pd\n",
    "options = pd.read_csv('bsm_option_data.csv')\n",
    "#Define Stock price (Ericsson B, 28.12.2020)               \n",
    "S0 = 98.36   \n",
    "#Dividend yield\n",
    "d = 0.0086\n",
    "\n",
    "# Heston Calibrated parameter vector with Lewis:  [2.438 0.116 0.751 -0.416 0.095]\n",
    "kappa_v = 2.438\n",
    "theta_v = 0.116\n",
    "sigma_v = 0.751\n",
    "rho = -0.416\n",
    "v0 = 0.095\n",
    "start_time = time.time()\n",
    "for row, option in options.iterrows():\n",
    "    H93_call_value(S0, option['Strike'], option['T'],\n",
    "                            option['r'], d, kappa_v, theta_v, sigma_v, rho, v0)\n",
    "H93_call_value_time = (time.time() - start_time)\n",
    "print(\"Total time Heston_FT\", H93_call_value_time, \"seconds\")  \n",
    "\n",
    "\n",
    "# Heston  Calibrated parameter vector with FFT:  [2.181 0.120 0.724 -0.461 0.098]\n",
    "kappa_v = 2.181\n",
    "theta_v = 0.120\n",
    "sigma_v = 0.724\n",
    "rho = -0.416\n",
    "v0 = 0.098\n",
    "start_time = time.time()\n",
    "for row, option in options.iterrows():    \n",
    "    H93_call_value_FFT(S0, option['Strike'], option['T'],\n",
    "                            option['r'], d, kappa_v, theta_v, sigma_v, rho, v0)\n",
    "    \n",
    "H93_call_value_FFT_time = (time.time() - start_time)    \n",
    "print(\"Total time Heston_FFT\", H93_call_value_FFT_time, \"seconds\")\n",
    "start_time = time.time()\n",
    "\n",
    "for row, option in options.iterrows():    \n",
    "    MC_Euler_Scheme_Heston_optionpricing(S0, option['Strike'], option['T'], option['r'], d,\n",
    "                                     v0, kappa_v, theta_v, sigma_v, rho, \n",
    "                                     M, I, option = 'call', vt_disct = 'full-truncation')\n",
    "MC_Euler_Scheme_Heston_optionpricing_time = (time.time() - start_time)    \n",
    "print(\"Total time Heston_MC\", MC_Euler_Scheme_Heston_optionpricing_time, \"seconds\")    "
   ]
  },
  {
   "cell_type": "code",
   "execution_count": 6,
   "metadata": {},
   "outputs": [],
   "source": [
    "kappa_v = 2.181\n",
    "theta_v = 0.120\n",
    "sigma_v = 0.724\n",
    "rho = -0.416\n",
    "v0 = 0.098\n",
    "max_iter = 5000\n",
    "H93_call_value_FFT_time_list = []\n",
    "for i in range(max_iter):\n",
    "    start_time = time.time()\n",
    "    for row, option in options.iterrows():    \n",
    "        H93_call_value_FFT(S0, option['Strike'], option['T'],\n",
    "                                option['r'], d, kappa_v, theta_v, sigma_v, rho, v0)\n",
    "\n",
    "    H93_call_value_FFT_time = (time.time() - start_time)    \n",
    "    H93_call_value_FFT_time_list.append(H93_call_value_FFT_time)"
   ]
  },
  {
   "cell_type": "code",
   "execution_count": 7,
   "metadata": {},
   "outputs": [],
   "source": [
    "kappa_v = 2.438\n",
    "theta_v = 0.116\n",
    "sigma_v = 0.751\n",
    "rho = -0.416\n",
    "v0 = 0.095\n",
    "H93_call_value_time_list = []\n",
    "for i in range(max_iter):\n",
    "    start_time = time.time()\n",
    "    for row, option in options.iterrows():\n",
    "        H93_call_value(S0, option['Strike'], option['T'],\n",
    "                                option['r'], d, kappa_v, theta_v, sigma_v, rho, v0)\n",
    "    H93_call_value_time = (time.time() - start_time)\n",
    "    H93_call_value_time_list.append(H93_call_value_time)"
   ]
  },
  {
   "cell_type": "code",
   "execution_count": 8,
   "metadata": {},
   "outputs": [],
   "source": [
    "BSM_call_valueAnalytical_list = []\n",
    "for i in range(max_iter):\n",
    "    start_time = time.time()\n",
    "    for row, option in options.iterrows():\n",
    "        BSM_call_valueAnalytical(S0, option['Strike'], option['T'], option['r'], d, option['impVol'])\n",
    "#     print(\"BSM_Analytical method\", (time.time() - start_time), \"seconds\")\n",
    "    BSM_call_valueAnalytical_list.append(time.time() - start_time)"
   ]
  },
  {
   "cell_type": "code",
   "execution_count": 9,
   "metadata": {},
   "outputs": [],
   "source": [
    "import matplotlib.pyplot as plt\n",
    "import seaborn as sns\n",
    "\n",
    "# matplotlib histogram\n",
    "def histo(H93_call_value_time_list, title) :\n",
    "    plt.hist(H93_call_value_time_list, color = 'blue', edgecolor = 'black',\n",
    "             bins = int(max_iter/5))\n",
    "\n",
    "    # # seaborn histogram\n",
    "    # sns.distplot(H93_call_value_FFT_time_list, hist=True, kde=False, \n",
    "    #              bins=int(max_iter/2), color = 'blue',\n",
    "    #              hist_kws={'edgecolor':'black'})\n",
    "    # Add labels\n",
    "    plt.title(title)\n",
    "    plt.xlabel('Running time(s)')\n",
    "    plt.ylabel('Flights')"
   ]
  },
  {
   "cell_type": "code",
   "execution_count": 10,
   "metadata": {},
   "outputs": [],
   "source": [
    "from statistics import mean \n",
    "def getMean(arr, name):    \n",
    "    avg = mean(arr)\n",
    "    print(\"The mean \" + name, round(avg, 5))\n",
    "    return avg"
   ]
  },
  {
   "cell_type": "code",
   "execution_count": 11,
   "metadata": {},
   "outputs": [
    {
     "name": "stdout",
     "output_type": "stream",
     "text": [
      "The mean BSM_call_valueAnalytical_list 0.03098\n"
     ]
    },
    {
     "data": {
      "text/plain": [
       "0.0309753155708313"
      ]
     },
     "execution_count": 11,
     "metadata": {},
     "output_type": "execute_result"
    },
    {
     "data": {
      "image/png": "[encoded data removed]",
      "text/plain": [
       "<Figure size 432x288 with 1 Axes>"
      ]
     },
     "metadata": {
      "needs_background": "light"
     },
     "output_type": "display_data"
    }
   ],
   "source": [
    "histo(BSM_call_valueAnalytical_list, \"BSM_call_valueAnalytical_list\")\n",
    "getMean(BSM_call_valueAnalytical_list, \"BSM_call_valueAnalytical_list\")"
   ]
  },
  {
   "cell_type": "code",
   "execution_count": 12,
   "metadata": {},
   "outputs": [
    {
     "name": "stdout",
     "output_type": "stream",
     "text": [
      "The mean H93_call_value_FFT_time_list 0.13694\n"
     ]
    },
    {
     "data": {
      "text/plain": [
       "0.1369355254650116"
      ]
     },
     "execution_count": 12,
     "metadata": {},
     "output_type": "execute_result"
    },
    {
     "data": {
      "image/png": "[encoded data removed]",
      "text/plain": [
       "<Figure size 432x288 with 1 Axes>"
      ]
     },
     "metadata": {
      "needs_background": "light"
     },
     "output_type": "display_data"
    }
   ],
   "source": [
    "histo(H93_call_value_FFT_time_list, \"H93_call_value_FFT_time_list\")\n",
    "getMean(H93_call_value_FFT_time_list, \"H93_call_value_FFT_time_list\")"
   ]
  },
  {
   "cell_type": "code",
   "execution_count": 13,
   "metadata": {},
   "outputs": [
    {
     "name": "stdout",
     "output_type": "stream",
     "text": [
      "The mean H93_call_value_1_list 0.4515\n"
     ]
    },
    {
     "data": {
      "text/plain": [
       "0.4514999922275543"
      ]
     },
     "execution_count": 13,
     "metadata": {},
     "output_type": "execute_result"
    },
    {
     "data": {
      "image/png": "[encoded data removed]",
      "text/plain": [
       "<Figure size 432x288 with 1 Axes>"
      ]
     },
     "metadata": {
      "needs_background": "light"
     },
     "output_type": "display_data"
    }
   ],
   "source": [
    "histo(H93_call_value_time_list, \"H93_call_value_1_list\")\n",
    "getMean(H93_call_value_time_list, \"H93_call_value_1_list\")"
   ]
  },
  {
   "cell_type": "code",
   "execution_count": 14,
   "metadata": {},
   "outputs": [],
   "source": [
    "# BSM Parameters\n",
    "S0 = 100.0 ; K = 100.0 ; T = 1.; r = 0.05; sigma = 0.2; d = 0\n",
    "# Compare running time in one iteration\n",
    "max_iter = 5000\n",
    "BSM_call_valueAnalytical_1_list = []\n",
    "for i in range(max_iter):\n",
    "    start_time = time.time()\n",
    "    BSM_call_valueAnalytical(S0, K, T, r, d, sigma)\n",
    "    BSM_call_valueAnalytical_1_list.append(time.time() - start_time)"
   ]
  },
  {
   "cell_type": "code",
   "execution_count": 15,
   "metadata": {},
   "outputs": [],
   "source": [
    "# Comparision running time Heston model\n",
    "# Heston Parameters\n",
    "S0 = 100.0; K = 100.0; T = 1.0; r = 0.05; d = 0\n",
    "kappa_v = 2; theta_v = 0.01; sigma_v = 0.1; rho = -0.5; v0 = 0.01\n",
    "H93_call_value_1_list = []\n",
    "for i in range(max_iter):\n",
    "    start_time = time.time()\n",
    "    H93_call_value(S0, K, T, r, d, kappa_v, theta_v, sigma_v, rho, v0) \n",
    "    H93_call_value_1_list.append(time.time() - start_time)\n",
    "    \n",
    "H93_call_value_FFT_1_list = []    \n",
    "for i in range(max_iter):    \n",
    "    start_time = time.time()\n",
    "    H93_call_value_FFT(S0, K, T, r, d, kappa_v, theta_v, sigma_v, rho, v0) \n",
    "    H93_call_value_FFT_1_list.append(time.time() - start_time)"
   ]
  },
  {
   "cell_type": "code",
   "execution_count": 16,
   "metadata": {},
   "outputs": [
    {
     "name": "stdout",
     "output_type": "stream",
     "text": [
      "The mean H93_call_value_FFT_1_list 0.00192\n"
     ]
    },
    {
     "data": {
      "text/plain": [
       "0.0019244436264038087"
      ]
     },
     "execution_count": 16,
     "metadata": {},
     "output_type": "execute_result"
    },
    {
     "data": {
      "image/png": "[encoded data removed]",
      "text/plain": [
       "<Figure size 432x288 with 1 Axes>"
      ]
     },
     "metadata": {
      "needs_background": "light"
     },
     "output_type": "display_data"
    }
   ],
   "source": [
    "histo(H93_call_value_FFT_1_list, \"H93_call_value_FFT_1_list\")\n",
    "getMean(H93_call_value_FFT_1_list, \"H93_call_value_FFT_1_list\")"
   ]
  },
  {
   "cell_type": "code",
   "execution_count": 17,
   "metadata": {},
   "outputs": [
    {
     "name": "stdout",
     "output_type": "stream",
     "text": [
      "The mean H93_call_value_1_list 0.00645\n"
     ]
    },
    {
     "data": {
      "text/plain": [
       "0.00644896273612976"
      ]
     },
     "execution_count": 17,
     "metadata": {},
     "output_type": "execute_result"
    },
    {
     "data": {
      "image/png": "[encoded data removed]",
      "text/plain": [
       "<Figure size 432x288 with 1 Axes>"
      ]
     },
     "metadata": {
      "needs_background": "light"
     },
     "output_type": "display_data"
    }
   ],
   "source": [
    "histo(H93_call_value_1_list, \"H93_call_value_1_list\")\n",
    "getMean(H93_call_value_1_list, \"H93_call_value_1_list\")"
   ]
  },
  {
   "cell_type": "code",
   "execution_count": 18,
   "metadata": {},
   "outputs": [
    {
     "name": "stdout",
     "output_type": "stream",
     "text": [
      "The mean BSM_call_valueAnalytical_1_list 0.0003\n"
     ]
    },
    {
     "data": {
      "text/plain": [
       "0.00029603958129882814"
      ]
     },
     "execution_count": 18,
     "metadata": {},
     "output_type": "execute_result"
    },
    {
     "data": {
      "image/png": "[encoded data removed]",
      "text/plain": [
       "<Figure size 432x288 with 1 Axes>"
      ]
     },
     "metadata": {
      "needs_background": "light"
     },
     "output_type": "display_data"
    }
   ],
   "source": [
    "histo(BSM_call_valueAnalytical_1_list, \"BSM_call_valueAnalytical_1_list\")\n",
    "getMean(BSM_call_valueAnalytical_1_list, \"BSM_call_valueAnalytical_1_list\")"
   ]
  }
 ],
 "metadata": {
  "kernelspec": {
   "display_name": "Python 3",
   "language": "python",
   "name": "python3"
  },
  "language_info": {
   "codemirror_mode": {
    "name": "ipython",
    "version": 3
   },
   "file_extension": ".py",
   "mimetype": "text/x-python",
   "name": "python",
   "nbconvert_exporter": "python",
   "pygments_lexer": "ipython3",
   "version": "3.7.6"
  }
 },
 "nbformat": 4,
 "nbformat_minor": 4
}
